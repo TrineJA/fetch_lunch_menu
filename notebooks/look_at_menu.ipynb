{
 "cells": [
  {
   "cell_type": "code",
   "execution_count": 7,
   "id": "military-estimate",
   "metadata": {},
   "outputs": [],
   "source": [
    "%load_ext autoreload\n",
    "%autoreload 2"
   ]
  },
  {
   "cell_type": "code",
   "execution_count": 11,
   "id": "finnish-surprise",
   "metadata": {},
   "outputs": [],
   "source": [
    "import requests\n",
    "from bs4 import BeautifulSoup\n",
    "import pandas as pd\n",
    "\n",
    "import sys\n",
    "sys.path.append('../src/')\n",
    "from get_menu import get_menu_as_string"
   ]
  },
  {
   "cell_type": "code",
   "execution_count": 9,
   "id": "faced-prince",
   "metadata": {},
   "outputs": [],
   "source": [
    "menu_string = get_menu_as_string()"
   ]
  },
  {
   "cell_type": "code",
   "execution_count": 10,
   "id": "hired-teacher",
   "metadata": {},
   "outputs": [
    {
     "data": {
      "text/plain": [
       "'\\n\\ntorsdag 28/01\\nOksehakkebøf med bløde løg, skysauce, kartofler og agurkesalat\\nMinced steak with caramelissed onions, potatoes and cucumber Salad\\nAllergener: 1\\nVeganske Bagte rødbeder med varme krydderier og dukkah\\nVegan baked beetroots with warm spices and dukkah\\nAllegerner: 8,11\\n\\nfredag 29/01\\nCitrontimianstegt Kylling med urtebagte rødder\\nRoasted chicken with lemon thyme and baked roots with Herbs\\nAllergener: ingen\\nVegetarisk Ølands pandekage med bønnemos og spinat\\nØland pancake with mashed beans and spinach\\nAllergener: 1,7'"
      ]
     },
     "execution_count": 10,
     "metadata": {},
     "output_type": "execute_result"
    }
   ],
   "source": [
    "menu_string"
   ]
  },
  {
   "cell_type": "code",
   "execution_count": 14,
   "id": "joined-feedback",
   "metadata": {},
   "outputs": [],
   "source": [
    "df = pd.DataFrame({'Day': ['torsdag'], 'Menu': ['Oksehakkebøf med bløde løg, skysauce, kartofler og agurkesalat\\nMinced steak with caramelissed onions, potatoes and cucumber Salad\\nAllergener: 1\\nVeganske Bagte rødbeder med varme krydderier og dukkah\\nVegan baked beetroots with warm spices and dukkah\\nAllegerner: 8,11']})\n"
   ]
  },
  {
   "cell_type": "code",
   "execution_count": 15,
   "id": "corporate-headset",
   "metadata": {},
   "outputs": [
    {
     "data": {
      "text/html": [
       "<div>\n",
       "<style scoped>\n",
       "    .dataframe tbody tr th:only-of-type {\n",
       "        vertical-align: middle;\n",
       "    }\n",
       "\n",
       "    .dataframe tbody tr th {\n",
       "        vertical-align: top;\n",
       "    }\n",
       "\n",
       "    .dataframe thead th {\n",
       "        text-align: right;\n",
       "    }\n",
       "</style>\n",
       "<table border=\"1\" class=\"dataframe\">\n",
       "  <thead>\n",
       "    <tr style=\"text-align: right;\">\n",
       "      <th></th>\n",
       "      <th>Day</th>\n",
       "      <th>Menu</th>\n",
       "    </tr>\n",
       "  </thead>\n",
       "  <tbody>\n",
       "    <tr>\n",
       "      <th>0</th>\n",
       "      <td>torsdag</td>\n",
       "      <td>Oksehakkebøf med bløde løg, skysauce, kartofle...</td>\n",
       "    </tr>\n",
       "  </tbody>\n",
       "</table>\n",
       "</div>"
      ],
      "text/plain": [
       "       Day                                               Menu\n",
       "0  torsdag  Oksehakkebøf med bløde løg, skysauce, kartofle..."
      ]
     },
     "execution_count": 15,
     "metadata": {},
     "output_type": "execute_result"
    }
   ],
   "source": [
    "df"
   ]
  },
  {
   "cell_type": "code",
   "execution_count": null,
   "id": "proved-prairie",
   "metadata": {},
   "outputs": [],
   "source": []
  }
 ],
 "metadata": {
  "kernelspec": {
   "display_name": "Python 3",
   "language": "python",
   "name": "python3"
  },
  "language_info": {
   "codemirror_mode": {
    "name": "ipython",
    "version": 3
   },
   "file_extension": ".py",
   "mimetype": "text/x-python",
   "name": "python",
   "nbconvert_exporter": "python",
   "pygments_lexer": "ipython3",
   "version": "3.8.5"
  }
 },
 "nbformat": 4,
 "nbformat_minor": 5
}
